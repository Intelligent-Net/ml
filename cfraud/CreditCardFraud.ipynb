{
 "cells": [
  {
   "cell_type": "code",
   "execution_count": 96,
   "metadata": {
    "collapsed": true
   },
   "outputs": [],
   "source": [
    "import pandas as pd \n",
    "import numpy as np \n",
    "import matplotlib.pyplot as plt\n",
    "from sklearn.utils import shuffle\n",
    "from sklearn.preprocessing import StandardScaler\n",
    "from sklearn.model_selection import train_test_split\n",
    "from sklearn.svm import SVC\n",
    "from sklearn.linear_model import SGDClassifier\n",
    "from sklearn.metrics import matthews_corrcoef"
   ]
  },
  {
   "cell_type": "code",
   "execution_count": 97,
   "metadata": {
    "collapsed": true
   },
   "outputs": [],
   "source": [
    "transactions = pd.read_csv('creditcard.csv')"
   ]
  },
  {
   "cell_type": "code",
   "execution_count": 98,
   "metadata": {},
   "outputs": [],
   "source": [
    "#correlated = transactions[['Class', 'V9', 'V10', 'V16', 'V17', 'V18','Amount']]\n",
    "correlated = transactions[['Class', 'V10', 'V11', 'V12', 'V16', 'V3', 'V4', 'V9']]\n",
    "\n",
    "\n",
    "sample = correlated[correlated['Class'] == 0]\n",
    "fraud = correlated[correlated['Class'] == 1]\n",
    "\n",
    "# need a very small but random sample of the legitimate data since it is massively over represented.\n",
    "ignore_me, sample = train_test_split(sample, test_size = 0.01)"
   ]
  },
  {
   "cell_type": "code",
   "execution_count": 172,
   "metadata": {},
   "outputs": [
    {
     "name": "stdout",
     "output_type": "stream",
     "text": [
      "<class 'pandas.core.series.Series'>\n",
      "<class 'pandas.core.series.Series'>\n",
      "nan\n"
     ]
    }
   ],
   "source": [
    "clazz = pd.to_numeric(fraud['Class'], downcast='float')\n",
    "#print(type(clazz), clazz)\n",
    "#print(fraud['V10'])\n",
    "#print(clazz)\n",
    "c10 = clazz.corr(fraud['V10'])\n",
    "#c10 = s.corr(clazz)\n",
    "print(c10)"
   ]
  },
  {
   "cell_type": "code",
   "execution_count": 89,
   "metadata": {
    "collapsed": true
   },
   "outputs": [],
   "source": [
    "import warnings\n",
    "warnings.filterwarnings(\"ignore\")\n",
    "\n",
    "sample = pd.concat([sample, fraud])\n",
    "\n",
    "# Break into train and test units.\n",
    "train, test = train_test_split(sample, test_size = 0.2)\n",
    "\n",
    "trainy = train['Class']\n",
    "testy = test['Class']\n",
    "train.drop('Class', 1, inplace = True)\n",
    "test.drop('Class', 1, inplace = True)"
   ]
  },
  {
   "cell_type": "code",
   "execution_count": 90,
   "metadata": {
    "collapsed": true
   },
   "outputs": [],
   "source": [
    "scaler = StandardScaler()\n",
    "scaler.fit(train)\n",
    "train = scaler.transform(train)\n",
    "test = scaler.transform(test)"
   ]
  },
  {
   "cell_type": "code",
   "execution_count": 91,
   "metadata": {
    "collapsed": true
   },
   "outputs": [],
   "source": [
    "#clf = SVC()\n",
    "clf = SGDClassifier()\n",
    "clf.fit(train, trainy)\n",
    "outcome = list(clf.predict(test))\n",
    "testy = list(testy)"
   ]
  },
  {
   "cell_type": "code",
   "execution_count": 92,
   "metadata": {
    "collapsed": true
   },
   "outputs": [],
   "source": [
    "count = 0\n",
    "falsepos = 0\n",
    "truepos = 0\n",
    "falseneg = 0\n",
    "trueneg = 0\n",
    "\n",
    "\n",
    "for i in range (1,len(testy)):\n",
    "    if (outcome[i]==1):\n",
    "        if (testy[i] == 1):\n",
    "            truepos = truepos + 1\n",
    "        else:\n",
    "            falsepos = falsepos + 1\n",
    "    else:\n",
    "        if (testy[i] == 0):\n",
    "            trueneg = trueneg + 1\n",
    "        else:\n",
    "            falseneg = falseneg  +1\n",
    "    count = count + 1"
   ]
  },
  {
   "cell_type": "code",
   "execution_count": 93,
   "metadata": {},
   "outputs": [
    {
     "name": "stdout",
     "output_type": "stream",
     "text": [
      "Precision = 0.9555555555555556\n",
      "Recall = 0.8349514563106796\n",
      "F1 = 0.8911917098445595\n"
     ]
    }
   ],
   "source": [
    "precision = truepos / (truepos + falsepos)\n",
    "recall = truepos / (truepos + falseneg)\n",
    "F1 = 2*((precision * recall ) / (precision + recall))\n",
    "\n",
    "print(\"Precision = \" + str(precision))\n",
    "print(\"Recall = \" + str(recall))\n",
    "print(\"F1 = \" + str(F1))"
   ]
  },
  {
   "cell_type": "code",
   "execution_count": null,
   "metadata": {
    "collapsed": true
   },
   "outputs": [],
   "source": []
  }
 ],
 "metadata": {
  "kernelspec": {
   "display_name": "Python [conda env:aind-cv]",
   "language": "python",
   "name": "conda-env-aind-cv-py"
  },
  "language_info": {
   "codemirror_mode": {
    "name": "ipython",
    "version": 3
   },
   "file_extension": ".py",
   "mimetype": "text/x-python",
   "name": "python",
   "nbconvert_exporter": "python",
   "pygments_lexer": "ipython3",
   "version": "3.6.2"
  }
 },
 "nbformat": 4,
 "nbformat_minor": 2
}
